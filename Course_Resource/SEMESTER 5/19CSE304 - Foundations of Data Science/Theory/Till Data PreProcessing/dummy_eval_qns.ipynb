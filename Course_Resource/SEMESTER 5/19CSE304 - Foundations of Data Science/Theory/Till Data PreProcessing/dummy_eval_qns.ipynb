{
  "nbformat": 4,
  "nbformat_minor": 0,
  "metadata": {
    "colab": {
      "name": "dummy_eval_qns.ipynb",
      "provenance": [],
      "collapsed_sections": []
    },
    "kernelspec": {
      "name": "python3",
      "display_name": "Python 3"
    },
    "language_info": {
      "name": "python"
    }
  },
  "cells": [
    {
      "cell_type": "markdown",
      "metadata": {
        "id": "r10PDHmqy6le"
      },
      "source": [
        "# Read Data"
      ]
    },
    {
      "cell_type": "code",
      "metadata": {
        "id": "AHeRQi3tyS77"
      },
      "source": [
        "import pandas as pd\n",
        "df=pd.read_csv('http://files.zillowstatic.com/research/public_v2/invt_fs/Metro_invt_fs_uc_sfrcondo_smoothed_month.csv')"
      ],
      "execution_count": null,
      "outputs": []
    },
    {
      "cell_type": "code",
      "metadata": {
        "id": "6xhunvMDzjEd"
      },
      "source": [
        "df.head()"
      ],
      "execution_count": null,
      "outputs": []
    },
    {
      "cell_type": "markdown",
      "metadata": {
        "id": "F_f2Ysf2zDlL"
      },
      "source": [
        "# 1. Print the number of rows and columns of the dataset"
      ]
    },
    {
      "cell_type": "code",
      "metadata": {
        "id": "jBa4mnyizCsY"
      },
      "source": [
        "def row_col_count():\n",
        "  # write your code here\n",
        "  \n",
        "  return  row,col\n",
        "row_col_count()"
      ],
      "execution_count": null,
      "outputs": []
    },
    {
      "cell_type": "markdown",
      "metadata": {
        "id": "ghYhclRXzcyl"
      },
      "source": [
        "# 2. Find the sum of values of column 2018-01-31"
      ]
    },
    {
      "cell_type": "code",
      "metadata": {
        "id": "VMlQNnKPzWDr"
      },
      "source": [
        "def sum_val():\n",
        "  # write your code here\n",
        "  return sum\n",
        "sum_val()"
      ],
      "execution_count": null,
      "outputs": []
    },
    {
      "cell_type": "markdown",
      "metadata": {
        "id": "WVwDGboP0sFI"
      },
      "source": [
        "# 3. Find the sum of values of column 2018-03-31, where statename is CA"
      ]
    },
    {
      "cell_type": "code",
      "metadata": {
        "id": "7R_9dziH0X2-"
      },
      "source": [
        "def sum_val1():\n",
        "  #write your code here\n",
        "  return sum1\n",
        "sum_val1()"
      ],
      "execution_count": null,
      "outputs": []
    },
    {
      "cell_type": "code",
      "metadata": {
        "id": "ehpUYjvmzYYU"
      },
      "source": [
        ""
      ],
      "execution_count": null,
      "outputs": []
    }
  ]
}