{
  "nbformat": 4,
  "nbformat_minor": 0,
  "metadata": {
    "colab": {
      "name": "L1_Excercise3_Numpy.ipynb",
      "provenance": [],
      "collapsed_sections": []
    },
    "kernelspec": {
      "name": "python3",
      "display_name": "Python 3"
    },
    "language_info": {
      "name": "python"
    }
  },
  "cells": [
    {
      "cell_type": "markdown",
      "metadata": {
        "id": "TRpD0oFrQEr8"
      },
      "source": [
        "# **19CSE305:MACHINE LEARNING LAB 1- NUMPY**\n",
        "\n",
        "SIKHA O K\n",
        "\n",
        "References: Github reppositories, Tutorial Point"
      ]
    },
    {
      "cell_type": "markdown",
      "metadata": {
        "id": "ZOcfcNZjCm-P"
      },
      "source": [
        "# **Python for Machine Learning**\n",
        "\n",
        "**Introduction to NUMPY- \"Numerical Python\"**\n",
        "\n",
        "Numpy is the core library for scientific computing in Python. It provides a high-performance multidimensional array object, and tools for working with these arrays.The most powerful feature of NumPy is n-dimensional array. This library also contains basic linear algebra functions, Fourier transforms, advanced random number capabilities and tools for integration with other low level languages like Fortran, C and C++"
      ]
    },
    {
      "cell_type": "markdown",
      "metadata": {
        "id": "ew3hIZ8mDWAU"
      },
      "source": [
        "**Arrays**\n",
        "\n",
        "A numpy array is a grid of values, all of the same type, and is indexed by a tuple of nonnegative integers. The number of dimensions is the rank of the array; the shape of an array is a tuple of integers giving the size of the array along each dimension.\n",
        "\n",
        "We can initialize numpy arrays from nested Python lists, and access elements using square brackets:\n"
      ]
    },
    {
      "cell_type": "code",
      "metadata": {
        "colab": {
          "base_uri": "https://localhost:8080/"
        },
        "id": "bJaxZpa5Bu38",
        "outputId": "68cd2dc8-a18c-4f09-e623-5844d612868e"
      },
      "source": [
        "#Import Numpy and check the version. The version string is stored under version attribute.\n",
        "import numpy as np\n",
        "print(np.__version__)"
      ],
      "execution_count": null,
      "outputs": [
        {
          "output_type": "stream",
          "text": [
            "1.19.5\n"
          ],
          "name": "stdout"
        }
      ]
    },
    {
      "cell_type": "markdown",
      "metadata": {
        "id": "b_JAJdqpENW_"
      },
      "source": [
        "The array object in NumPy is called ndarray. \n",
        "We can create a NumPy ndarray object by using the array() function."
      ]
    },
    {
      "cell_type": "code",
      "metadata": {
        "colab": {
          "base_uri": "https://localhost:8080/"
        },
        "id": "4YCIbZh9D2_J",
        "outputId": "1e14d991-5b54-4a23-c1ba-88af1dc25bf1"
      },
      "source": [
        "arr=np.array([1,2,3,4])\n",
        "print(arr)\n",
        "print(type(arr))\n",
        "print(\"the shape:\",arr.shape)"
      ],
      "execution_count": null,
      "outputs": [
        {
          "output_type": "stream",
          "text": [
            "[1 2 3 4]\n",
            "<class 'numpy.ndarray'>\n",
            "the shape: (4,)\n"
          ],
          "name": "stdout"
        }
      ]
    },
    {
      "cell_type": "markdown",
      "metadata": {
        "id": "B20rM6VWEtfc"
      },
      "source": [
        "**0-Dimension arrays**"
      ]
    },
    {
      "cell_type": "code",
      "metadata": {
        "colab": {
          "base_uri": "https://localhost:8080/"
        },
        "id": "BiqbHrPNEgm-",
        "outputId": "e73caa8f-031d-4c0f-afa9-480b6ef0f54b"
      },
      "source": [
        "arr0=np.array(43)\n",
        "print(arr0)\n",
        "print(\"The shape: \",arr0.shape)"
      ],
      "execution_count": null,
      "outputs": [
        {
          "output_type": "stream",
          "text": [
            "43\n",
            "The shape:  ()\n"
          ],
          "name": "stdout"
        }
      ]
    },
    {
      "cell_type": "markdown",
      "metadata": {
        "id": "HyebKvcOFA0E"
      },
      "source": [
        "**1-D array:** An array with 0-dimensional array as elements "
      ]
    },
    {
      "cell_type": "code",
      "metadata": {
        "colab": {
          "base_uri": "https://localhost:8080/"
        },
        "id": "tlNqL1ELE3ZN",
        "outputId": "89be7a62-7d4b-4644-dc11-78e484b23b24"
      },
      "source": [
        "arr1=np.array([1,2,3,4,5,6])\n",
        "print(arr1)\n",
        "print('The shape: ',arr.shape)\n",
        "print(\"Number of elements of the array:\",arr1.size)"
      ],
      "execution_count": null,
      "outputs": [
        {
          "output_type": "stream",
          "text": [
            "[1 2 3 4 5 6]\n",
            "The shape:  (6,)\n",
            "Number of elements of the array: 6\n"
          ],
          "name": "stdout"
        }
      ]
    },
    {
      "cell_type": "markdown",
      "metadata": {
        "id": "RVy4HsyDGG1m"
      },
      "source": [
        "**2D array:** An array that has 1-D arrays as its elements. hese are often used to represent matrix or 2nd order tensors."
      ]
    },
    {
      "cell_type": "code",
      "metadata": {
        "colab": {
          "base_uri": "https://localhost:8080/"
        },
        "id": "arGcfbF9FLOd",
        "outputId": "7cb0b4ef-0ace-4c9f-d9cc-f5328784006d"
      },
      "source": [
        "arr2=np.array([[1,2],[3,4],[5,6]])\n",
        "print(arr2)\n",
        "print(\"The shape: \",arr2.shape)\n",
        "print(\"Total number of elements\",arr2.size)"
      ],
      "execution_count": null,
      "outputs": [
        {
          "output_type": "stream",
          "text": [
            "[[1 2]\n",
            " [3 4]\n",
            " [5 6]]\n",
            "The shape:  (3, 2)\n",
            "Total number of elements 6\n"
          ],
          "name": "stdout"
        }
      ]
    },
    {
      "cell_type": "markdown",
      "metadata": {
        "id": "q7KziYnSGxRB"
      },
      "source": [
        "**3D array:** array that has 2-D arrays (matrices) as its elements is called 3-D array. These are often used to represent a 3rd order tensor."
      ]
    },
    {
      "cell_type": "code",
      "metadata": {
        "colab": {
          "base_uri": "https://localhost:8080/"
        },
        "id": "zmwTZOuGGeTp",
        "outputId": "305f86ae-295b-4d01-d4fc-6f5c74783764"
      },
      "source": [
        "arr3=np.array([[[1,2], [3,4]],[[5,6],[7,8]],[[8,9],[9,90]]])\n",
        "print(arr3)\n",
        "print(\"The shape: \",arr3.shape)\n",
        "print(\"Total number of elements\",arr3.size)"
      ],
      "execution_count": null,
      "outputs": [
        {
          "output_type": "stream",
          "text": [
            "[[[ 1  2]\n",
            "  [ 3  4]]\n",
            "\n",
            " [[ 5  6]\n",
            "  [ 7  8]]\n",
            "\n",
            " [[ 8  9]\n",
            "  [ 9 90]]]\n",
            "The shape:  (3, 2, 2)\n",
            "Total number of elements 12\n"
          ],
          "name": "stdout"
        }
      ]
    },
    {
      "cell_type": "markdown",
      "metadata": {
        "id": "kkKlWvw-H67j"
      },
      "source": [
        "**Check Number of Dimensions**:  NumPy Arrays provides the ***ndim ***attribute that returns an integer that tells us how many dimensions the array have."
      ]
    },
    {
      "cell_type": "code",
      "metadata": {
        "colab": {
          "base_uri": "https://localhost:8080/"
        },
        "id": "8QhlNg84HNzK",
        "outputId": "fdc4e976-57ac-4865-c234-76328a77b68a"
      },
      "source": [
        "a = np.array(42)\n",
        "b = np.array([1, 2, 3, 4, 5])\n",
        "c = np.array([[1, 2, 3], [4, 5, 6]])\n",
        "d = np.array([[[1, 2, 3], [4, 5, 6]], [[1, 2, 3], [4, 5, 6]]])\n",
        "print(\"The shape of array a:\",a.ndim)\n",
        "print(\"The shape of array b:\",b.ndim)\n",
        "print(\"The shape of array c:\",c.ndim)\n",
        "print(\"The shape of array d:\",d.ndim)\n"
      ],
      "execution_count": null,
      "outputs": [
        {
          "output_type": "stream",
          "text": [
            "The shape of array a: 0\n",
            "The shape of array b: 1\n",
            "The shape of array c: 2\n",
            "The shape of array d: 3\n"
          ],
          "name": "stdout"
        }
      ]
    },
    {
      "cell_type": "markdown",
      "metadata": {
        "id": "cdsfkK1bIr5A"
      },
      "source": [
        "**Higher Dimensional Array:**s An array can have any number of dimensions.\n",
        "\n",
        "When the array is created, you can define the number of dimensions by using the ndmin argument."
      ]
    },
    {
      "cell_type": "code",
      "metadata": {
        "colab": {
          "base_uri": "https://localhost:8080/"
        },
        "id": "b2cgGIbtIpoW",
        "outputId": "6c251c33-ac8a-481a-ac6a-eb96b5276f55"
      },
      "source": [
        "arr=np.array([1,2,3,4,5],ndmin=5)\n",
        "print(arr)\n",
        "print('Dimension of the array is: ',arr.ndim)\n",
        "#In this array the innermost dimension (5th dim) has 4 elements, the 4th dim has 1 element that is the vector,\n",
        "# the 3rd dim has 1 element that is the matrix with the vector, the 2nd dim has 1 element that is 3D array and 1st dim has 1 element that is a 4D array."
      ],
      "execution_count": null,
      "outputs": [
        {
          "output_type": "stream",
          "text": [
            "[[[[[1 2 3 4 5]]]]]\n",
            "Dimension of the array is:  5\n"
          ],
          "name": "stdout"
        }
      ]
    },
    {
      "cell_type": "code",
      "metadata": {
        "colab": {
          "base_uri": "https://localhost:8080/"
        },
        "id": "Lq4wj552IeGg",
        "outputId": "a4b19810-f9fa-4d1d-9257-6d2d1b3edee7"
      },
      "source": [
        "# dtype parameter \n",
        "a = np.array([1, 2, 3], dtype = complex) \n",
        "print(a)\n"
      ],
      "execution_count": null,
      "outputs": [
        {
          "output_type": "stream",
          "text": [
            "[1.+0.j 2.+0.j 3.+0.j]\n"
          ],
          "name": "stdout"
        }
      ]
    },
    {
      "cell_type": "markdown",
      "metadata": {
        "id": "1coHYULWJiCB"
      },
      "source": [
        "**Reshape an array**"
      ]
    },
    {
      "cell_type": "code",
      "metadata": {
        "colab": {
          "base_uri": "https://localhost:8080/"
        },
        "id": "i-xGNZV9Jhf6",
        "outputId": "b6919365-3550-4233-f885-17e7f8d5c977"
      },
      "source": [
        "a=np.array([[1,2,3],[5,6,7]])\n",
        "print(\"Shape of the original array: \", a.shape)\n",
        "print(\"The original array:\\n\",a)\n",
        "#resize the array as (3,2)\n",
        "a.shape=(3,2)\n",
        "print(\"Reshaped array:\\n\",a)\n",
        "print(\"Shape of the reshaped array: \", a.shape)\n"
      ],
      "execution_count": null,
      "outputs": [
        {
          "output_type": "stream",
          "text": [
            "Shape of the original array:  (2, 3)\n",
            "The original array:\n",
            " [[1 2 3]\n",
            " [5 6 7]]\n",
            "Reshaped array:\n",
            " [[1 2]\n",
            " [3 5]\n",
            " [6 7]]\n",
            "Shape of the reshaped array:  (3, 2)\n"
          ],
          "name": "stdout"
        }
      ]
    },
    {
      "cell_type": "code",
      "metadata": {
        "colab": {
          "base_uri": "https://localhost:8080/"
        },
        "id": "QwttBxTOKdFY",
        "outputId": "a38fdc67-bf1a-42a1-9350-02612b1c3ee4"
      },
      "source": [
        "#NumPy also provides a reshape function to resize an array.\n",
        "a=np.array([[1,2,3],[5,6,7]])\n",
        "print(\"Shape of the original array: \", a.shape)\n",
        "print(\"The original array:\\n\",a)\n",
        "#resize the array as (3,2)\n",
        "a=a.reshape(3,2)\n",
        "print(\"Reshaped array:\\n\",a)\n",
        "print(\"Shape of the reshaped array: \", a.shape)"
      ],
      "execution_count": null,
      "outputs": [
        {
          "output_type": "stream",
          "text": [
            "Shape of the original array:  (2, 3)\n",
            "The original array:\n",
            " [[1 2 3]\n",
            " [5 6 7]]\n",
            "Reshaped array:\n",
            " [[1 2]\n",
            " [3 5]\n",
            " [6 7]]\n",
            "Shape of the reshaped array:  (3, 2)\n"
          ],
          "name": "stdout"
        }
      ]
    },
    {
      "cell_type": "markdown",
      "metadata": {
        "id": "risUn5PIKyaG"
      },
      "source": [
        "**Array Indexing**"
      ]
    },
    {
      "cell_type": "code",
      "metadata": {
        "colab": {
          "base_uri": "https://localhost:8080/"
        },
        "id": "aKEqFJOkIiqE",
        "outputId": "1f98e84d-56c2-4d23-9c2e-22ed514046c5"
      },
      "source": [
        "arr = np.array([1, 2, 3, 4])\n",
        "\n",
        "print('first element: ', arr[0])\n",
        "print('second element: ', arr[1])"
      ],
      "execution_count": null,
      "outputs": [
        {
          "output_type": "stream",
          "text": [
            "first element:  1\n",
            "second element:  2\n"
          ],
          "name": "stdout"
        }
      ]
    },
    {
      "cell_type": "code",
      "metadata": {
        "id": "GuoqukfPK7W0"
      },
      "source": [
        "#Get third and fourth elements from the following array and add them.\n",
        "arr = np.array([1, 2, 3, 4])\n"
      ],
      "execution_count": null,
      "outputs": []
    },
    {
      "cell_type": "code",
      "metadata": {
        "colab": {
          "base_uri": "https://localhost:8080/"
        },
        "id": "YqwFy6xiLEDk",
        "outputId": "f72c971a-bdcd-40b9-979e-1d9b9cd1147b"
      },
      "source": [
        "#2d array\n",
        "arr=np.array([[1,2],[3,4]])\n",
        "print('Element (0,0): ',arr[0,0])\n",
        "print('Element (1,1): ',arr[1,1])"
      ],
      "execution_count": null,
      "outputs": [
        {
          "output_type": "stream",
          "text": [
            "Element (0,0):  1\n",
            "Element (1,1):  4\n"
          ],
          "name": "stdout"
        }
      ]
    },
    {
      "cell_type": "code",
      "metadata": {
        "colab": {
          "base_uri": "https://localhost:8080/"
        },
        "id": "NUV5TwExLKnd",
        "outputId": "175503c6-9905-4993-d214-83dc946df55f"
      },
      "source": [
        "#3D array:\n",
        "arr = np.array([[[1,2],[3,4]],[[5,6],[7,8]],[[9,10],[11,12]]])\n",
        "print(arr)"
      ],
      "execution_count": null,
      "outputs": [
        {
          "output_type": "stream",
          "text": [
            "[[[ 1  2]\n",
            "  [ 3  4]]\n",
            "\n",
            " [[ 5  6]\n",
            "  [ 7  8]]\n",
            "\n",
            " [[ 9 10]\n",
            "  [11 12]]]\n"
          ],
          "name": "stdout"
        }
      ]
    },
    {
      "cell_type": "code",
      "metadata": {
        "id": "JmZU0xnELglq"
      },
      "source": [
        "#Print the second element of the second array of the first array\n",
        "\n",
        "print(arr[0,1,1])\n",
        "# First number represents first dimension,which has three arrays: [1 2] [3 4] , [5 6] [7 8] and [9 10] [11 12]. We select 0 hence [1 2] [3 4]\n",
        "# Second number represents second dimension which has two  arrays: [ 1 2] [ 3 4]. We chose 1 hence [3 4]\n",
        "#Thirf number  represents one dimension which has two  values: 3, 4 . We chose 1 hence 4\n"
      ],
      "execution_count": null,
      "outputs": []
    },
    {
      "cell_type": "markdown",
      "metadata": {
        "id": "77CY5RWlLpc2"
      },
      "source": [
        "**Array Slicing**\n",
        "\n",
        "Slicing arrays Slicing in python means taking elements from one given index to another given index.\n",
        "\n",
        "We pass slice instead of index like this: [start:end].\n",
        "\n",
        "We can also define the step, like this: [start:end:step].\n",
        "\n",
        "If we don't pass start its considered 0\n",
        "\n",
        "If we don't pass end its considered length of array in that dimension\n",
        "\n",
        "If we don't pass step its considered 1"
      ]
    },
    {
      "cell_type": "code",
      "metadata": {
        "colab": {
          "base_uri": "https://localhost:8080/"
        },
        "id": "q4SoC_tELuZP",
        "outputId": "30fa09b7-e4cc-406e-d12e-e1238117e9e2"
      },
      "source": [
        "arr=np.array([1,2,3,4,5,6,7,8,9,10])\n",
        "#Slice the values from 1 to 5\n",
        "print('Values 1 to 5:', arr[1:5])\n",
        "#Display the first 8 numbers\n",
        "print('First 8 elemns: ',arr[0:7])\n",
        "#Display the last 3 numbers\n",
        "print('Last 3 numbers',arr[-3:])\n",
        "#print alternative elements\n",
        "print('Alternative:',arr[0:9:2])"
      ],
      "execution_count": null,
      "outputs": [
        {
          "output_type": "stream",
          "text": [
            "Values 1 to 5: [2 3 4 5]\n",
            "First 8 elemns:  [1 2 3 4 5 6 7]\n",
            "Last 3 numbers [ 8  9 10]\n",
            "Alternative: [1 3 5 7 9]\n"
          ],
          "name": "stdout"
        }
      ]
    },
    {
      "cell_type": "code",
      "metadata": {
        "colab": {
          "base_uri": "https://localhost:8080/"
        },
        "id": "eFkVu0YLMw8b",
        "outputId": "8d215602-7198-40c4-db0d-20e34e96d034"
      },
      "source": [
        "# array to begin with \n",
        "a = np.array([[1,2,3],[3,4,5],[4,5,6]]) \n",
        "\n",
        "print ('Our array is:' )\n",
        "print (a) \n",
        "print ('\\n' ) \n",
        "\n",
        "# this returns array of items in the second column \n",
        "print ('The items in the second column are:'  )\n",
        "print (a[:,1] )\n",
        "print ('\\n'  )\n",
        "\n",
        "# Now we will slice all items from the second row \n",
        "print ('The items in the second row are:' )\n",
        "print (a[1,:] )\n",
        "print ('\\n'  )\n",
        "\n",
        "# Now we will slice all items from column 1 onwards \n",
        "print ('The items column 1 onwards are:' )\n",
        "print (a[:,1:])"
      ],
      "execution_count": null,
      "outputs": [
        {
          "output_type": "stream",
          "text": [
            "Our array is:\n",
            "[[1 2 3]\n",
            " [3 4 5]\n",
            " [4 5 6]]\n",
            "\n",
            "\n",
            "The items in the second column are:\n",
            "[2 4 5]\n",
            "\n",
            "\n",
            "The items in the second row are:\n",
            "[3 4 5]\n",
            "\n",
            "\n",
            "The items column 1 onwards are:\n",
            "[[2 3]\n",
            " [4 5]\n",
            " [5 6]]\n"
          ],
          "name": "stdout"
        }
      ]
    },
    {
      "cell_type": "code",
      "metadata": {
        "colab": {
          "base_uri": "https://localhost:8080/"
        },
        "id": "UAFpubh1Lyme",
        "outputId": "c351824d-2937-4661-9de7-5b061c4cc675"
      },
      "source": [
        "#2d slicing\n",
        "arr=np.array([[1,2,3,4,5],[6,7,8,9,10]])\n",
        "print(arr)\n",
        "#From both elements, return index 2\n",
        "print(arr[:,2])"
      ],
      "execution_count": null,
      "outputs": [
        {
          "output_type": "stream",
          "text": [
            "[[ 1  2  3  4  5]\n",
            " [ 6  7  8  9 10]]\n",
            "[3 8]\n"
          ],
          "name": "stdout"
        }
      ]
    },
    {
      "cell_type": "markdown",
      "metadata": {
        "id": "8RP1pqk2N36T"
      },
      "source": [
        "**Check the datatype**"
      ]
    },
    {
      "cell_type": "code",
      "metadata": {
        "colab": {
          "base_uri": "https://localhost:8080/"
        },
        "id": "6r0x4GUyNeRg",
        "outputId": "c0929be7-2e30-43a5-bff8-5d5583a11f56"
      },
      "source": [
        "arr1=np.array([1,2,3,4,5])\n",
        "arr2=np.array(['all','is','well'])\n",
        "print('array1: ',arr1.dtype)\n",
        "print('array2: ',arr2.dtype)"
      ],
      "execution_count": null,
      "outputs": [
        {
          "output_type": "stream",
          "text": [
            "array1:  int64\n",
            "array2:  <U4\n"
          ],
          "name": "stdout"
        }
      ]
    },
    {
      "cell_type": "markdown",
      "metadata": {
        "id": "6SEX0NshN9DQ"
      },
      "source": [
        "**Creating Arrays With a Defined Data Type**"
      ]
    },
    {
      "cell_type": "code",
      "metadata": {
        "colab": {
          "base_uri": "https://localhost:8080/"
        },
        "id": "Wyw0nK8SN-zv",
        "outputId": "1d73c570-7bb9-4563-84d9-77513bf48b98"
      },
      "source": [
        "arr=np.array([1,2,3,4],dtype='S')\n",
        "print(arr.dtype)"
      ],
      "execution_count": null,
      "outputs": [
        {
          "output_type": "stream",
          "text": [
            "|S1\n"
          ],
          "name": "stdout"
        }
      ]
    },
    {
      "cell_type": "markdown",
      "metadata": {
        "id": "t2kBgrRTOFSR"
      },
      "source": [
        "**Converting Data Type of Existing Arrays**"
      ]
    },
    {
      "cell_type": "code",
      "metadata": {
        "colab": {
          "base_uri": "https://localhost:8080/"
        },
        "id": "FuL2e8TQOHe4",
        "outputId": "9428a6ae-9de2-426a-c171-7614a237c465"
      },
      "source": [
        "arr=np.array([1.1,2.2,3.4,5.6])\n",
        "print('array elements: ',arr)\n",
        "print('Initial array data type: ',arr.dtype)\n",
        "arr1=arr.astype('i')\n",
        "print('Converted array elements: ',arr1)\n",
        "print('Converted array datatype: ',arr1.dtype)"
      ],
      "execution_count": null,
      "outputs": [
        {
          "output_type": "stream",
          "text": [
            "array elements:  [1.1 2.2 3.4 5.6]\n",
            "Initial array data type:  float64\n",
            "Converted array elements:  [1 2 3 5]\n",
            "Converted array datatype:  int32\n"
          ],
          "name": "stdout"
        }
      ]
    },
    {
      "cell_type": "markdown",
      "metadata": {
        "id": "6CDeKkkxOVLN"
      },
      "source": [
        "**Random Array:** Generate Random Number NumPy offers the random module to work with random numbers."
      ]
    },
    {
      "cell_type": "code",
      "metadata": {
        "colab": {
          "base_uri": "https://localhost:8080/"
        },
        "id": "IH3FJp5AOctz",
        "outputId": "7d7495d4-1b3e-49e6-eacd-4c36b2cb96e1"
      },
      "source": [
        "#Generate a random integer from 0 to 100:\n",
        "x=np.random.randint(100)\n",
        "print('Random numbers from 1-100: ', x)"
      ],
      "execution_count": null,
      "outputs": [
        {
          "output_type": "stream",
          "text": [
            "Random numbers from 1-100:  9\n"
          ],
          "name": "stdout"
        }
      ]
    },
    {
      "cell_type": "code",
      "metadata": {
        "colab": {
          "base_uri": "https://localhost:8080/"
        },
        "id": "j-wvwK3NOh0B",
        "outputId": "c8562f9f-9350-4226-9753-fec99dafefe2"
      },
      "source": [
        "#Generate Random Float The random module's rand() method returns a random float between 0 and 1.\n",
        "x=np.random.rand()\n",
        "print(x)"
      ],
      "execution_count": null,
      "outputs": [
        {
          "output_type": "stream",
          "text": [
            "0.054963220296496695\n"
          ],
          "name": "stdout"
        }
      ]
    },
    {
      "cell_type": "markdown",
      "metadata": {
        "id": "cvN9fESVOoln"
      },
      "source": [
        "**Array math**\n",
        "\n",
        "Basic mathematical functions operate elementwise on arrays, and are available both as operator overloads and as functions in the numpy module:"
      ]
    },
    {
      "cell_type": "code",
      "metadata": {
        "colab": {
          "base_uri": "https://localhost:8080/"
        },
        "id": "8SE7wiWLOkL9",
        "outputId": "aefc4a9c-5709-452a-b191-94aa619eb113"
      },
      "source": [
        "import numpy as np\n",
        "\n",
        "x = np.array([[1,2],[3,4]], dtype=np.float64)\n",
        "y = np.array([[5,6],[7,8]], dtype=np.float64)\n",
        "\n",
        "# Elementwise sum; both produce the array\n",
        "# [[ 6.0  8.0]\n",
        "#  [10.0 12.0]]\n",
        "print(\"Matrix Addition: \\n\")\n",
        "print (x + y)\n",
        "print(\"\\n\")\n",
        "print (\"\\nUsing np.add: \\n\",np.add(x, y))\n",
        "print(\"\\n\")\n",
        "# Elementwise difference; both produce the array\n",
        "# [[-4.0 -4.0]\n",
        "#  [-4.0 -4.0]]\n",
        "print (x - y)\n",
        "print (np.subtract(x, y))\n",
        "\n",
        "\n",
        "print(\"Matrix Multiplication: \\n\")\n",
        "\n",
        "# Elementwise product; both produce the array\n",
        "# [[ 5.0 12.0]\n",
        "#  [21.0 32.0]]\n",
        "print( x * y)\n",
        "print(\"\\n\")\n",
        "print (\"Using np.multiply:\\n\",np.multiply(x, y))\n",
        "print(\"\\n\")\n",
        "\n",
        "print(\"Matrix Devison: \\n\")\n",
        "# Elementwise division; both produce the array\n",
        "# [[ 0.2         0.33333333]\n",
        "#  [ 0.42857143  0.5       ]]\n",
        "print (x / y)\n",
        "print(\"\\n\")\n",
        "print (\"Using np.divide:\\n\",np.divide(x, y))\n",
        "print(\"\\n\")\n",
        "print(\"Elementwise squart:\\n\")\n",
        "# Elementwise square root; produces the array\n",
        "# [[ 1.          1.41421356]\n",
        "#  [ 1.73205081  2.        ]]\n",
        "print (np.sqrt(x))"
      ],
      "execution_count": null,
      "outputs": [
        {
          "output_type": "stream",
          "text": [
            "Matrix Addition: \n",
            "\n",
            "[[ 6.  8.]\n",
            " [10. 12.]]\n",
            "\n",
            "\n",
            "\n",
            "Using np.add: \n",
            " [[ 6.  8.]\n",
            " [10. 12.]]\n",
            "\n",
            "\n",
            "[[-4. -4.]\n",
            " [-4. -4.]]\n",
            "[[-4. -4.]\n",
            " [-4. -4.]]\n",
            "Matrix Multiplication: \n",
            "\n",
            "[[ 5. 12.]\n",
            " [21. 32.]]\n",
            "\n",
            "\n",
            "Using np.multiply:\n",
            " [[ 5. 12.]\n",
            " [21. 32.]]\n",
            "\n",
            "\n",
            "Matrix Devison: \n",
            "\n",
            "[[0.2        0.33333333]\n",
            " [0.42857143 0.5       ]]\n",
            "\n",
            "\n",
            "Using np.divide:\n",
            " [[0.2        0.33333333]\n",
            " [0.42857143 0.5       ]]\n",
            "\n",
            "\n",
            "Elementwise squart:\n",
            "\n",
            "[[1.         1.41421356]\n",
            " [1.73205081 2.        ]]\n"
          ],
          "name": "stdout"
        }
      ]
    },
    {
      "cell_type": "markdown",
      "metadata": {
        "id": "NF-Pl7oSPx5k"
      },
      "source": [
        "Explore the following Numpy functions from[ here](https://numpy.org/doc/stable/)\n",
        "\n",
        "* array()\n",
        "* type()\n",
        "* ndim\n",
        "* [start:end:step]\n",
        "* dtype\n",
        "* copy()\n",
        "* view()\n",
        "* reshape()\n",
        "* concatenate()\n",
        "* array_split()\n",
        "* where()\n",
        "* searchsorted()    \n",
        "* sort()\n",
        "* randint()\n",
        "* rand()\n",
        "* shuffle()\n",
        "* permutation()\n",
        "* binomial()\n",
        "* multinomial()\n",
        "* exponential()\n",
        "* add()\n",
        "* prod()\n",
        "* cumprod()\n",
        "* diff()\n",
        "* unique()\n",
        "* lcm()\n",
        "* linspace()\n",
        "* gcd()\n",
        "* sin()\n",
        "* sinh()\n"
      ]
    },
    {
      "cell_type": "code",
      "metadata": {
        "id": "En-HT98_O7ya"
      },
      "source": [
        ""
      ],
      "execution_count": null,
      "outputs": []
    }
  ]
}