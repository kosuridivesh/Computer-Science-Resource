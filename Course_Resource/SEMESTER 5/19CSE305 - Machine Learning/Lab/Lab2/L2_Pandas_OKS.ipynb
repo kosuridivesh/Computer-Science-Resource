{
  "nbformat": 4,
  "nbformat_minor": 0,
  "metadata": {
    "colab": {
      "name": "Pandas.ipynb",
      "provenance": [],
      "collapsed_sections": []
    },
    "kernelspec": {
      "name": "python3",
      "display_name": "Python 3"
    }
  },
  "cells": [
    {
      "cell_type": "markdown",
      "metadata": {
        "id": "4XphyqsetGjo"
      },
      "source": [
        "# **19CSE305: MACHINE LEARNING LAB**\n",
        "## Pandas Tutorial\n",
        "\n",
        "Sikha O K\n",
        "\n",
        "CSE Department\n",
        "\n",
        "ASe-Coimbatore"
      ]
    },
    {
      "cell_type": "markdown",
      "metadata": {
        "id": "Xf1GNbwQhmVp"
      },
      "source": [
        "Import pandas\n",
        "Pandas is usually imported under the pd alias."
      ]
    },
    {
      "cell_type": "code",
      "metadata": {
        "colab": {
          "base_uri": "https://localhost:8080/"
        },
        "id": "dNDRYpzrha1E",
        "outputId": "cfc1df3d-afa0-487a-b1a3-613a5e5cdf66"
      },
      "source": [
        "import pandas as pd\n",
        "print('Pandas version:', pd.__version__)"
      ],
      "execution_count": null,
      "outputs": [
        {
          "output_type": "stream",
          "text": [
            "Pandas version: 1.1.5\n"
          ],
          "name": "stdout"
        }
      ]
    },
    {
      "cell_type": "markdown",
      "metadata": {
        "id": "p-hqpQ9ziPtq"
      },
      "source": [
        "**What is a Series?**\n",
        "\n",
        "A Series is a one-dimensional labeled array capable of holding any data type (integers, strings, floating point numbers, Python objects, etc.). It has to be remembered that unlike Python lists, a Series will always contain data of the same type.\n",
        "\n",
        "If noting else is specified, **the values are labeled with their index number**. First value has index 0, second value has index 1 etc.\n",
        "\n",
        "This label can be used to access a specified value."
      ]
    },
    {
      "cell_type": "code",
      "metadata": {
        "colab": {
          "base_uri": "https://localhost:8080/"
        },
        "id": "QJy00xEiijiD",
        "outputId": "767d3590-779b-411c-97ae-cf5bee19e8f6"
      },
      "source": [
        "#Create an Empty Series\n",
        "s=pd.Series()\n",
        "print(s)"
      ],
      "execution_count": null,
      "outputs": [
        {
          "output_type": "stream",
          "text": [
            "Series([], dtype: float64)\n"
          ],
          "name": "stdout"
        },
        {
          "output_type": "stream",
          "text": [
            "/usr/local/lib/python3.7/dist-packages/ipykernel_launcher.py:2: DeprecationWarning: The default dtype for empty Series will be 'object' instead of 'float64' in a future version. Specify a dtype explicitly to silence this warning.\n",
            "  \n"
          ],
          "name": "stderr"
        }
      ]
    },
    {
      "cell_type": "code",
      "metadata": {
        "colab": {
          "base_uri": "https://localhost:8080/"
        },
        "id": "o4YhDr2Lj0O6",
        "outputId": "9a0b1f9d-4488-436a-fb5e-031975b8b47d"
      },
      "source": [
        "##Create pandas series from a ndarray\n",
        "import numpy as np\n",
        "arr=np.array(['h','e','l','l','o'])\n",
        "print(\"NDARRAY: \",arr)\n",
        "pdseries=pd.Series(arr)\n",
        "print(\"pd Serires:\\n\",pdseries)"
      ],
      "execution_count": null,
      "outputs": [
        {
          "output_type": "stream",
          "text": [
            "NDARRAY:  ['h' 'e' 'l' 'l' 'o']\n",
            "pd Serires:\n",
            " 0    h\n",
            "1    e\n",
            "2    l\n",
            "3    l\n",
            "4    o\n",
            "dtype: object\n"
          ],
          "name": "stdout"
        }
      ]
    },
    {
      "cell_type": "code",
      "metadata": {
        "colab": {
          "base_uri": "https://localhost:8080/"
        },
        "id": "p6CJGVeilt7B",
        "outputId": "fe8235dc-9864-4252-a3d8-f98e1cff48dc"
      },
      "source": [
        "#pass index\n",
        "pdseries2=pd.Series(arr,[100,200,300,400,500])\n",
        "print(\"pdseries with index: \\n \",pdseries2)"
      ],
      "execution_count": null,
      "outputs": [
        {
          "output_type": "stream",
          "text": [
            "pdseries with index:  100    h\n",
            "200    e\n",
            "300    l\n",
            "400    l\n",
            "500    o\n",
            "dtype: object\n"
          ],
          "name": "stdout"
        }
      ]
    },
    {
      "cell_type": "code",
      "metadata": {
        "colab": {
          "base_uri": "https://localhost:8080/"
        },
        "id": "_UKy-se-iS3p",
        "outputId": "c6622a4c-8829-4757-d9a1-48530b6118eb"
      },
      "source": [
        "#Create pandas series from a list\n",
        "x=[10,23,45,50]\n",
        "print('List:', x)\n",
        "y=pd.Series(x)\n",
        "print('Series:\\n',y)"
      ],
      "execution_count": null,
      "outputs": [
        {
          "output_type": "stream",
          "text": [
            "List: [10, 23, 45, 50]\n",
            "Series:\n",
            " 0    10\n",
            "1    23\n",
            "2    45\n",
            "3    50\n",
            "dtype: int64\n"
          ],
          "name": "stdout"
        }
      ]
    },
    {
      "cell_type": "markdown",
      "metadata": {
        "id": "5bsVSrzemjJZ"
      },
      "source": [
        "**Excercise 1:** Create a series from dictionary\n",
        "\n",
        "\n",
        "\n"
      ]
    },
    {
      "cell_type": "code",
      "metadata": {
        "colab": {
          "base_uri": "https://localhost:8080/"
        },
        "id": "9BIvGsG9nWxq",
        "outputId": "c98a4077-f488-430f-9f81-3f8383fea15b"
      },
      "source": [
        "#Accessing Data from Series with Position\n",
        "arr=np.array([1,2,3,4,5])\n",
        "pdseries=pd.Series(arr,index = ['a','b','c','d','e'])\n",
        "print(\"Series\\n\",pdseries)\n",
        "#Print the first element\n",
        "print(\"The first element is:\",pdseries[0])\n",
        "print(\"Retrieve The first element with label:\",pdseries['a'])\n",
        "\n"
      ],
      "execution_count": null,
      "outputs": [
        {
          "output_type": "stream",
          "text": [
            "Series\n",
            " a    1\n",
            "b    2\n",
            "c    3\n",
            "d    4\n",
            "e    5\n",
            "dtype: int64\n",
            "The first element is: 1\n",
            "Retrieve The first element with label: 1\n"
          ],
          "name": "stdout"
        }
      ]
    },
    {
      "cell_type": "markdown",
      "metadata": {
        "id": "hu4M8_TeU9FE"
      },
      "source": [
        "**Excercise 2:** Create a series and\n",
        "\n",
        "1)  Retrieve the first three elements in the Series.\n",
        "\n",
        "2) Retrieve the last three elements."
      ]
    },
    {
      "cell_type": "markdown",
      "metadata": {
        "id": "4p42JepujzZ2"
      },
      "source": [
        "**Create Labels**\n",
        "\n",
        "With the index argument, you can name your own labels."
      ]
    },
    {
      "cell_type": "code",
      "metadata": {
        "colab": {
          "base_uri": "https://localhost:8080/"
        },
        "id": "Hnc1m0Asj4NN",
        "outputId": "c796b843-268a-47b2-f533-1aec883bc95e"
      },
      "source": [
        "x=[10,23,45,50]\n",
        "y=pd.Series(x,['pen','pen','pencil','pencil'])\n",
        "print(y)"
      ],
      "execution_count": null,
      "outputs": [
        {
          "output_type": "stream",
          "text": [
            "pen       10\n",
            "pen       23\n",
            "pencil    45\n",
            "pencil    50\n",
            "dtype: int64\n"
          ],
          "name": "stdout"
        }
      ]
    },
    {
      "cell_type": "code",
      "metadata": {
        "colab": {
          "base_uri": "https://localhost:8080/"
        },
        "id": "95appVR2kRBz",
        "outputId": "c1856beb-d42c-42fb-f5e4-ddba70c405e7"
      },
      "source": [
        "# Once the labels are creates, you can access an item by referring to the label.\n",
        "print('Entries corresponding to Pen: \\n',y['pen'])\n",
        "print('Entries corresponding to Pencil: \\n',y['pencil'])"
      ],
      "execution_count": null,
      "outputs": [
        {
          "output_type": "stream",
          "text": [
            "Entries corresponding to Pen: \n",
            " pen    10\n",
            "pen    23\n",
            "dtype: int64\n",
            "Entries corresponding to Pencil: \n",
            " pencil    45\n",
            "pencil    50\n",
            "dtype: int64\n"
          ],
          "name": "stdout"
        }
      ]
    },
    {
      "cell_type": "markdown",
      "metadata": {
        "id": "dFbWsTqBkwoS"
      },
      "source": [
        "**Key/Value Objects as Series**\n",
        "\n",
        "Using pandas we can create a dictionary like labelled data too\n"
      ]
    },
    {
      "cell_type": "code",
      "metadata": {
        "colab": {
          "base_uri": "https://localhost:8080/"
        },
        "id": "7usRbkefk5QP",
        "outputId": "f103d7ae-108f-4726-d4bd-ffb468191d9a"
      },
      "source": [
        "marks={\"ram\":50,\"balu\":25,\"sita\":45}\n",
        "M=pd.Series(marks)\n",
        "print(M)"
      ],
      "execution_count": null,
      "outputs": [
        {
          "output_type": "stream",
          "text": [
            "ram     50\n",
            "balu    25\n",
            "sita    45\n",
            "dtype: int64\n"
          ],
          "name": "stdout"
        }
      ]
    },
    {
      "cell_type": "markdown",
      "metadata": {
        "id": "evOfDHzdnuEH"
      },
      "source": [
        "**DataFrames**\n",
        "\n",
        "Data sets in Pandas are usually multi-dimensional tables, called DataFrames.\n",
        "\n",
        "Series is like a column, a DataFrame is the whole table."
      ]
    },
    {
      "cell_type": "code",
      "metadata": {
        "colab": {
          "base_uri": "https://localhost:8080/"
        },
        "id": "jRlk4eRbWeWM",
        "outputId": "f0ef8d26-ef7c-446c-d91e-510b8e1624a0"
      },
      "source": [
        "#Create an Empty DataFrame\n",
        "df=pd.DataFrame()\n",
        "print(df)"
      ],
      "execution_count": null,
      "outputs": [
        {
          "output_type": "stream",
          "text": [
            "Empty DataFrame\n",
            "Columns: []\n",
            "Index: []\n"
          ],
          "name": "stdout"
        }
      ]
    },
    {
      "cell_type": "code",
      "metadata": {
        "colab": {
          "base_uri": "https://localhost:8080/"
        },
        "id": "UONDDJ36XI4h",
        "outputId": "5065f028-c6fa-46ac-e845-aad64b7cdbbf"
      },
      "source": [
        "#Create a DataFrame from Lists\n",
        "list=[1,2,3,4,5]\n",
        "print(\"List: \",list)\n",
        "df=pd.DataFrame(list)\n",
        "print(\"Dataframe:\\n\",df)"
      ],
      "execution_count": null,
      "outputs": [
        {
          "output_type": "stream",
          "text": [
            "List:  [1, 2, 3, 4, 5]\n",
            "Dataframe:\n",
            "    0\n",
            "0  1\n",
            "1  2\n",
            "2  3\n",
            "3  4\n",
            "4  5\n"
          ],
          "name": "stdout"
        }
      ]
    },
    {
      "cell_type": "code",
      "metadata": {
        "colab": {
          "base_uri": "https://localhost:8080/"
        },
        "id": "rv9XJKg-cdFv",
        "outputId": "2cc5d795-95a1-47e1-baf9-41ad1afab07f"
      },
      "source": [
        "data = [['Alex',10],['Bob',12],['Clarke',13]]\n",
        "df = pd.DataFrame(data,columns=['Name','Age'],dtype=float)\n",
        "print(df)"
      ],
      "execution_count": 9,
      "outputs": [
        {
          "output_type": "stream",
          "text": [
            "     Name   Age\n",
            "0    Alex  10.0\n",
            "1     Bob  12.0\n",
            "2  Clarke  13.0\n"
          ],
          "name": "stdout"
        }
      ]
    },
    {
      "cell_type": "code",
      "metadata": {
        "colab": {
          "base_uri": "https://localhost:8080/"
        },
        "id": "Cg6IfpfNn0a9",
        "outputId": "ac17ae0d-cdff-4a3d-bb75-0aa90c6a68c8"
      },
      "source": [
        "data={ \"Physiscs\":[50,45,35,42.5],\n",
        "        \"Biology\": [50,45,35,25]\n",
        "      }\n",
        "D= pd.DataFrame(data)\n",
        "print(D)"
      ],
      "execution_count": null,
      "outputs": [
        {
          "output_type": "stream",
          "text": [
            "   Physiscs  Biology\n",
            "0      50.0       50\n",
            "1      45.0       45\n",
            "2      35.0       35\n",
            "3      42.5       25\n"
          ],
          "name": "stdout"
        }
      ]
    },
    {
      "cell_type": "code",
      "metadata": {
        "colab": {
          "base_uri": "https://localhost:8080/"
        },
        "id": "okGSfbR8brUv",
        "outputId": "67f583e2-ad6a-4176-d989-774371382c38"
      },
      "source": [
        "\n",
        "d = {'one' : pd.Series([1, 2, 3], index=['a', 'b', 'c']),\n",
        "   'two' : pd.Series([1, 2, 3, 4], index=['a', 'b', 'c', 'd'])}\n",
        "\n",
        "df = pd.DataFrame(d)\n",
        "print(\"Entire dataframe: \\n\", df)\n",
        "\n",
        "print( \"The first column:\\n\",df ['one'])"
      ],
      "execution_count": 7,
      "outputs": [
        {
          "output_type": "stream",
          "text": [
            "Entire dataframe: \n",
            "    one  two\n",
            "a  1.0    1\n",
            "b  2.0    2\n",
            "c  3.0    3\n",
            "d  NaN    4\n",
            "The first column:\n",
            " a    1.0\n",
            "b    2.0\n",
            "c    3.0\n",
            "d    NaN\n",
            "Name: one, dtype: float64\n"
          ],
          "name": "stdout"
        }
      ]
    },
    {
      "cell_type": "code",
      "metadata": {
        "colab": {
          "base_uri": "https://localhost:8080/"
        },
        "id": "IIj9VduYd28W",
        "outputId": "3f092bd2-2267-4b67-e8e7-fd0e89d4ca88"
      },
      "source": [
        "#ADD Column\n",
        "d={'col1': pd.Series([1,2,3],index=['a','b','c']),\n",
        "     'col2': pd.Series([1,2,3,4,5],index=['a','b','c','d','e']) }\n",
        "df=pd.DataFrame(d)\n",
        "print(\"Original Dataframe:\\n\",df)\n",
        "#Add col3\n",
        "df['col3']=pd.Series([1,2,3,4,5],index=['a','b','c','d','e',])\n",
        "print(\"Dataframe after adding a third column:\\n\",df)\n",
        "\n",
        "print (\"Adding a new column using the existing columns in DataFrame:\")\n",
        "df['col4']=df['col1']+df['col2']\n",
        "print(\"After adding 4t column:\\n\",df)"
      ],
      "execution_count": 23,
      "outputs": [
        {
          "output_type": "stream",
          "text": [
            "Original Dataframe:\n",
            "    col1  col2\n",
            "a   1.0     1\n",
            "b   2.0     2\n",
            "c   3.0     3\n",
            "d   NaN     4\n",
            "e   NaN     5\n",
            "Dataframe after adding a third column:\n",
            "    col1  col2  col3\n",
            "a   1.0     1     1\n",
            "b   2.0     2     2\n",
            "c   3.0     3     3\n",
            "d   NaN     4     4\n",
            "e   NaN     5     5\n",
            "Adding a new column using the existing columns in DataFrame:\n",
            "After adding 4t column:\n",
            "    col1  col2  col3  col4\n",
            "a   1.0     1     1   2.0\n",
            "b   2.0     2     2   4.0\n",
            "c   3.0     3     3   6.0\n",
            "d   NaN     4     4   NaN\n",
            "e   NaN     5     5   NaN\n"
          ],
          "name": "stdout"
        }
      ]
    },
    {
      "cell_type": "code",
      "metadata": {
        "colab": {
          "base_uri": "https://localhost:8080/"
        },
        "id": "KRZXmBCFg2d7",
        "outputId": "2ee02792-1e8d-43d3-cc7b-908b7ac8a7fe"
      },
      "source": [
        "# Deleting a column\n",
        "# using del function\n",
        "print (\"Deleting the first column using DEL function:\")\n",
        "del df['col1']\n",
        "print (df)"
      ],
      "execution_count": 27,
      "outputs": [
        {
          "output_type": "stream",
          "text": [
            "Deleting the first column using DEL function:\n",
            "   col2  col3  col4\n",
            "a     1     1   2.0\n",
            "b     2     2   4.0\n",
            "c     3     3   6.0\n",
            "d     4     4   NaN\n",
            "e     5     5   NaN\n"
          ],
          "name": "stdout"
        }
      ]
    },
    {
      "cell_type": "markdown",
      "metadata": {
        "id": "0UeDDXUcp3bV"
      },
      "source": [
        "**Locate Row**\n",
        "\n",
        " DataFrame is similiar to a table with rows and columns.\n",
        "\n",
        "Pandas use the loc attribute to return one or more specified row(s)"
      ]
    },
    {
      "cell_type": "code",
      "metadata": {
        "colab": {
          "base_uri": "https://localhost:8080/"
        },
        "id": "MnCyJx3KqBYT",
        "outputId": "aea5969d-21ec-4cfe-f922-abc059154baf"
      },
      "source": [
        "data={ \"Height\": [150,160,180,170],\n",
        "        'weight': [52,60,75,69],\n",
        "         \"Age\"  :[31,35,40,42]\n",
        "      }\n",
        "D= pd.DataFrame(data)\n",
        "print('Entire Dataset:\\n ',D)\n",
        "print(\"First entry:\\n\",D.loc[0])\n",
        "\n"
      ],
      "execution_count": null,
      "outputs": [
        {
          "output_type": "stream",
          "text": [
            "Entire Dataset:\n",
            "     Height  weight  Age\n",
            "0     150      52   31\n",
            "1     160      60   35\n",
            "2     180      75   40\n",
            "3     170      69   42\n",
            "First entry:\n",
            " Height    150\n",
            "weight     52\n",
            "Age        31\n",
            "Name: 0, dtype: int64\n"
          ],
          "name": "stdout"
        }
      ]
    },
    {
      "cell_type": "code",
      "metadata": {
        "colab": {
          "base_uri": "https://localhost:8080/"
        },
        "id": "29OJFbSArykc",
        "outputId": "bb28053d-a5a8-4b93-d25f-18814482d270"
      },
      "source": [
        "# With the index argument, you can name your own indexes.\n",
        "\n",
        "D1=pd.DataFrame(data,index=['ram','shyam','sita','gita'])\n",
        "print('Custom Labelled:\\n ',D1)\n",
        "print('Details of shyam:\\n',D1.loc['shyam'])"
      ],
      "execution_count": null,
      "outputs": [
        {
          "output_type": "stream",
          "text": [
            "Custom Labelled:\n",
            "         Height  weight  Age\n",
            "ram       150      52   31\n",
            "shyam     160      60   35\n",
            "sita      180      75   40\n",
            "gita      170      69   42\n",
            "Details of shyam:\n",
            " Height    160\n",
            "weight     60\n",
            "Age        35\n",
            "Name: shyam, dtype: int64\n"
          ],
          "name": "stdout"
        }
      ]
    },
    {
      "cell_type": "markdown",
      "metadata": {
        "id": "4c58XTl8G8_F"
      },
      "source": [
        "Read CSV Files\n",
        "\n",
        "A simple way to store big data sets is to use CSV files (comma separated files).\n",
        "\n",
        "CSV files contains plain text"
      ]
    },
    {
      "cell_type": "code",
      "metadata": {
        "colab": {
          "base_uri": "https://localhost:8080/"
        },
        "id": "twVDI6vxHUss",
        "outputId": "649cd53f-c5d7-46a7-90c8-8a38f5fd49b2"
      },
      "source": [
        "#Load CSV file\n",
        "data=pd.read_csv('/content/drive/MyDrive/ML/18CS311_ML_LAB/LAB2/data.csv')\n",
        "print(data) #to print a part of the dataset"
      ],
      "execution_count": null,
      "outputs": [
        {
          "output_type": "stream",
          "text": [
            "     Duration  Pulse  Maxpulse  Calories\n",
            "0          60    110       130     409.1\n",
            "1          60    117       145     479.0\n",
            "2          60    103       135     340.0\n",
            "3          45    109       175     282.4\n",
            "4          45    117       148     406.0\n",
            "..        ...    ...       ...       ...\n",
            "164        60    105       140     290.8\n",
            "165        60    110       145     300.0\n",
            "166        60    115       145     310.2\n",
            "167        75    120       150     320.4\n",
            "168        75    125       150     330.4\n",
            "\n",
            "[169 rows x 4 columns]\n"
          ],
          "name": "stdout"
        }
      ]
    },
    {
      "cell_type": "code",
      "metadata": {
        "colab": {
          "base_uri": "https://localhost:8080/"
        },
        "id": "obnJ58DMICiM",
        "outputId": "63af5e2f-cd00-489d-b5ef-5178987b4824"
      },
      "source": [
        "#print the entire dataset\n",
        "print(data.to_string())"
      ],
      "execution_count": null,
      "outputs": [
        {
          "output_type": "stream",
          "text": [
            "     Duration  Pulse  Maxpulse  Calories\n",
            "0          60    110       130     409.1\n",
            "1          60    117       145     479.0\n",
            "2          60    103       135     340.0\n",
            "3          45    109       175     282.4\n",
            "4          45    117       148     406.0\n",
            "5          60    102       127     300.0\n",
            "6          60    110       136     374.0\n",
            "7          45    104       134     253.3\n",
            "8          30    109       133     195.1\n",
            "9          60     98       124     269.0\n",
            "10         60    103       147     329.3\n",
            "11         60    100       120     250.7\n",
            "12         60    106       128     345.3\n",
            "13         60    104       132     379.3\n",
            "14         60     98       123     275.0\n",
            "15         60     98       120     215.2\n",
            "16         60    100       120     300.0\n",
            "17         45     90       112       NaN\n",
            "18         60    103       123     323.0\n",
            "19         45     97       125     243.0\n",
            "20         60    108       131     364.2\n",
            "21         45    100       119     282.0\n",
            "22         60    130       101     300.0\n",
            "23         45    105       132     246.0\n",
            "24         60    102       126     334.5\n",
            "25         60    100       120     250.0\n",
            "26         60     92       118     241.0\n",
            "27         60    103       132       NaN\n",
            "28         60    100       132     280.0\n",
            "29         60    102       129     380.3\n",
            "30         60     92       115     243.0\n",
            "31         45     90       112     180.1\n",
            "32         60    101       124     299.0\n",
            "33         60     93       113     223.0\n",
            "34         60    107       136     361.0\n",
            "35         60    114       140     415.0\n",
            "36         60    102       127     300.0\n",
            "37         60    100       120     300.0\n",
            "38         60    100       120     300.0\n",
            "39         45    104       129     266.0\n",
            "40         45     90       112     180.1\n",
            "41         60     98       126     286.0\n",
            "42         60    100       122     329.4\n",
            "43         60    111       138     400.0\n",
            "44         60    111       131     397.0\n",
            "45         60     99       119     273.0\n",
            "46         60    109       153     387.6\n",
            "47         45    111       136     300.0\n",
            "48         45    108       129     298.0\n",
            "49         60    111       139     397.6\n",
            "50         60    107       136     380.2\n",
            "51         80    123       146     643.1\n",
            "52         60    106       130     263.0\n",
            "53         60    118       151     486.0\n",
            "54         30    136       175     238.0\n",
            "55         60    121       146     450.7\n",
            "56         60    118       121     413.0\n",
            "57         45    115       144     305.0\n",
            "58         20    153       172     226.4\n",
            "59         45    123       152     321.0\n",
            "60        210    108       160    1376.0\n",
            "61        160    110       137    1034.4\n",
            "62        160    109       135     853.0\n",
            "63         45    118       141     341.0\n",
            "64         20    110       130     131.4\n",
            "65        180     90       130     800.4\n",
            "66        150    105       135     873.4\n",
            "67        150    107       130     816.0\n",
            "68         20    106       136     110.4\n",
            "69        300    108       143    1500.2\n",
            "70        150     97       129    1115.0\n",
            "71         60    109       153     387.6\n",
            "72         90    100       127     700.0\n",
            "73        150     97       127     953.2\n",
            "74         45    114       146     304.0\n",
            "75         90     98       125     563.2\n",
            "76         45    105       134     251.0\n",
            "77         45    110       141     300.0\n",
            "78        120    100       130     500.4\n",
            "79        270    100       131    1729.0\n",
            "80         30    159       182     319.2\n",
            "81         45    149       169     344.0\n",
            "82         30    103       139     151.1\n",
            "83        120    100       130     500.0\n",
            "84         45    100       120     225.3\n",
            "85         30    151       170     300.0\n",
            "86         45    102       136     234.0\n",
            "87        120    100       157    1000.1\n",
            "88         45    129       103     242.0\n",
            "89         20     83       107      50.3\n",
            "90        180    101       127     600.1\n",
            "91         45    107       137       NaN\n",
            "92         30     90       107     105.3\n",
            "93         15     80       100      50.5\n",
            "94         20    150       171     127.4\n",
            "95         20    151       168     229.4\n",
            "96         30     95       128     128.2\n",
            "97         25    152       168     244.2\n",
            "98         30    109       131     188.2\n",
            "99         90     93       124     604.1\n",
            "100        20     95       112      77.7\n",
            "101        90     90       110     500.0\n",
            "102        90     90       100     500.0\n",
            "103        90     90       100     500.4\n",
            "104        30     92       108      92.7\n",
            "105        30     93       128     124.0\n",
            "106       180     90       120     800.3\n",
            "107        30     90       120      86.2\n",
            "108        90     90       120     500.3\n",
            "109       210    137       184    1860.4\n",
            "110        60    102       124     325.2\n",
            "111        45    107       124     275.0\n",
            "112        15    124       139     124.2\n",
            "113        45    100       120     225.3\n",
            "114        60    108       131     367.6\n",
            "115        60    108       151     351.7\n",
            "116        60    116       141     443.0\n",
            "117        60     97       122     277.4\n",
            "118        60    105       125       NaN\n",
            "119        60    103       124     332.7\n",
            "120        30    112       137     193.9\n",
            "121        45    100       120     100.7\n",
            "122        60    119       169     336.7\n",
            "123        60    107       127     344.9\n",
            "124        60    111       151     368.5\n",
            "125        60     98       122     271.0\n",
            "126        60     97       124     275.3\n",
            "127        60    109       127     382.0\n",
            "128        90     99       125     466.4\n",
            "129        60    114       151     384.0\n",
            "130        60    104       134     342.5\n",
            "131        60    107       138     357.5\n",
            "132        60    103       133     335.0\n",
            "133        60    106       132     327.5\n",
            "134        60    103       136     339.0\n",
            "135        20    136       156     189.0\n",
            "136        45    117       143     317.7\n",
            "137        45    115       137     318.0\n",
            "138        45    113       138     308.0\n",
            "139        20    141       162     222.4\n",
            "140        60    108       135     390.0\n",
            "141        60     97       127       NaN\n",
            "142        45    100       120     250.4\n",
            "143        45    122       149     335.4\n",
            "144        60    136       170     470.2\n",
            "145        45    106       126     270.8\n",
            "146        60    107       136     400.0\n",
            "147        60    112       146     361.9\n",
            "148        30    103       127     185.0\n",
            "149        60    110       150     409.4\n",
            "150        60    106       134     343.0\n",
            "151        60    109       129     353.2\n",
            "152        60    109       138     374.0\n",
            "153        30    150       167     275.8\n",
            "154        60    105       128     328.0\n",
            "155        60    111       151     368.5\n",
            "156        60     97       131     270.4\n",
            "157        60    100       120     270.4\n",
            "158        60    114       150     382.8\n",
            "159        30     80       120     240.9\n",
            "160        30     85       120     250.4\n",
            "161        45     90       130     260.4\n",
            "162        45     95       130     270.0\n",
            "163        45    100       140     280.9\n",
            "164        60    105       140     290.8\n",
            "165        60    110       145     300.0\n",
            "166        60    115       145     310.2\n",
            "167        75    120       150     320.4\n",
            "168        75    125       150     330.4\n"
          ],
          "name": "stdout"
        }
      ]
    },
    {
      "cell_type": "markdown",
      "metadata": {
        "id": "IfLe-Mj6o__D"
      },
      "source": [
        "Viewing the Data\n",
        "\n",
        "One of the most used method for getting a quick overview of the DataFrame, is the head() method.\n",
        "\n",
        "The head() method returns the headers and a specified number of rows, starting from the top."
      ]
    },
    {
      "cell_type": "code",
      "metadata": {
        "colab": {
          "base_uri": "https://localhost:8080/"
        },
        "id": "I00YDtlhpCQg",
        "outputId": "fb6215d8-2a7f-4ad0-c50c-7ce9d24753e7"
      },
      "source": [
        "print(data.head(5))"
      ],
      "execution_count": null,
      "outputs": [
        {
          "output_type": "stream",
          "text": [
            "   Duration  Pulse  Maxpulse  Calories\n",
            "0        60    110       130     409.1\n",
            "1        60    117       145     479.0\n",
            "2        60    103       135     340.0\n",
            "3        45    109       175     282.4\n",
            "4        45    117       148     406.0\n"
          ],
          "name": "stdout"
        }
      ]
    },
    {
      "cell_type": "markdown",
      "metadata": {
        "id": "dM6wYSuSphGp"
      },
      "source": [
        "Info About the Data\n",
        "\n",
        "The DataFrames object has a method called info(), that gives you more information about the data set."
      ]
    },
    {
      "cell_type": "code",
      "metadata": {
        "colab": {
          "base_uri": "https://localhost:8080/"
        },
        "id": "wVdoipb4pj9g",
        "outputId": "20e982c0-4bcb-4eed-9006-da716e613bb9"
      },
      "source": [
        "print(data.info())"
      ],
      "execution_count": null,
      "outputs": [
        {
          "output_type": "stream",
          "text": [
            "<class 'pandas.core.frame.DataFrame'>\n",
            "RangeIndex: 169 entries, 0 to 168\n",
            "Data columns (total 4 columns):\n",
            " #   Column    Non-Null Count  Dtype  \n",
            "---  ------    --------------  -----  \n",
            " 0   Duration  169 non-null    int64  \n",
            " 1   Pulse     169 non-null    int64  \n",
            " 2   Maxpulse  169 non-null    int64  \n",
            " 3   Calories  164 non-null    float64\n",
            "dtypes: float64(1), int64(3)\n",
            "memory usage: 5.4 KB\n",
            "None\n"
          ],
          "name": "stdout"
        }
      ]
    }
  ]
}