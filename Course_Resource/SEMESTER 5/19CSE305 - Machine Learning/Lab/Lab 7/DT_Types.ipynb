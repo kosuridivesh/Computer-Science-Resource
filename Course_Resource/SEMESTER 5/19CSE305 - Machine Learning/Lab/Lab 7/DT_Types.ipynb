{
  "nbformat": 4,
  "nbformat_minor": 0,
  "metadata": {
    "colab": {
      "name": "DT_Types.ipynb",
      "provenance": []
    },
    "kernelspec": {
      "name": "python3",
      "display_name": "Python 3"
    },
    "language_info": {
      "name": "python"
    }
  },
  "cells": [
    {
      "cell_type": "code",
      "metadata": {
        "id": "EnZNeSjMoCeu"
      },
      "source": [
        "# Importing the required packages\n",
        "import numpy as np\n",
        "import pandas as pd\n",
        "from sklearn.metrics import confusion_matrix\n",
        "#from sklearn.cross_validation import train_test_split\n",
        "from sklearn.model_selection import train_test_split\n",
        "from sklearn.tree import DecisionTreeClassifier\n",
        "from sklearn.metrics import accuracy_score\n",
        "from sklearn.metrics import classification_report\n",
        "  \n"
      ],
      "execution_count": 4,
      "outputs": []
    },
    {
      "cell_type": "code",
      "metadata": {
        "id": "xz8cs01iprqS"
      },
      "source": [
        "# Function importing Dataset\n",
        "def importdata():\n",
        "    balance_data = pd.read_csv('/content/balance-scale.csv')\n",
        "\n",
        "    # Printing the dataswet shape\n",
        "    print (\"Dataset Length: \", len(balance_data))\n",
        "    print (\"Dataset Shape: \", balance_data.shape)\n",
        "      \n",
        "    # Printing the dataset obseravtions\n",
        "    print (\"Dataset: \",balance_data.head())\n",
        "    return balance_data"
      ],
      "execution_count": 7,
      "outputs": []
    },
    {
      "cell_type": "code",
      "metadata": {
        "id": "-eup5vOCp0A5"
      },
      "source": [
        "# Function to split the dataset\n",
        "def splitdataset(balance_data):\n",
        "  \n",
        "    # Separating the target variable\n",
        "    X = balance_data.values[:, 1:5]\n",
        "    Y = balance_data.values[:, 0]\n",
        "  \n",
        "    # Splitting the dataset into train and test\n",
        "    X_train, X_test, y_train, y_test = train_test_split( \n",
        "    X, Y, test_size = 0.3, random_state = 100)\n",
        "      \n",
        "    return X, Y, X_train, X_test, y_train, y_test\n",
        "  "
      ],
      "execution_count": 6,
      "outputs": []
    },
    {
      "cell_type": "code",
      "metadata": {
        "id": "yUWLqFUxqBQh"
      },
      "source": [
        "# Function to perform training with giniIndex.\n",
        "def train_using_gini(X_train, X_test, y_train):\n",
        "  \n",
        "    # Creating the classifier object\n",
        "    clf_gini = DecisionTreeClassifier(criterion = \"gini\",\n",
        "            random_state = 100,max_depth=3, min_samples_leaf=5)\n",
        "  \n",
        "    # Performing training\n",
        "    clf_gini.fit(X_train, y_train)\n",
        "    return clf_gini\n",
        "      \n"
      ],
      "execution_count": 8,
      "outputs": []
    },
    {
      "cell_type": "code",
      "metadata": {
        "id": "E6V1VcHFqF7K"
      },
      "source": [
        "# Function to perform training with entropy.\n",
        "def tarin_using_entropy(X_train, X_test, y_train):\n",
        "  \n",
        "    # Decision tree with entropy\n",
        "    clf_entropy = DecisionTreeClassifier(\n",
        "            criterion = \"entropy\", random_state = 100,\n",
        "            max_depth = 3, min_samples_leaf = 5)\n",
        "  \n",
        "    # Performing training\n",
        "    clf_entropy.fit(X_train, y_train)\n",
        "    return clf_entropy\n",
        "  \n",
        "  \n"
      ],
      "execution_count": 9,
      "outputs": []
    },
    {
      "cell_type": "code",
      "metadata": {
        "id": "IaSO-TzrqKj7"
      },
      "source": [
        "# Function to make predictions\n",
        "def prediction(X_test, clf_object):\n",
        "  \n",
        "    # Predicton on test with giniIndex\n",
        "    y_pred = clf_object.predict(X_test)\n",
        "    print(\"Predicted values:\")\n",
        "    print(y_pred)\n",
        "    return y_pred\n",
        "      \n"
      ],
      "execution_count": null,
      "outputs": []
    },
    {
      "cell_type": "code",
      "metadata": {
        "id": "5PAKVvtHqNUI"
      },
      "source": [
        "# Function to calculate accuracy\n",
        "def cal_accuracy(y_test, y_pred):\n",
        "      \n",
        "    print(\"Confusion Matrix: \",\n",
        "        confusion_matrix(y_test, y_pred))\n",
        "      \n",
        "    print (\"Accuracy : \",\n",
        "    accuracy_score(y_test,y_pred)*100)\n",
        "      \n",
        "    print(\"Report : \",\n",
        "    classification_report(y_test, y_pred))\n"
      ],
      "execution_count": 10,
      "outputs": []
    },
    {
      "cell_type": "code",
      "metadata": {
        "colab": {
          "base_uri": "https://localhost:8080/"
        },
        "id": "S2cWh9s0qPRo",
        "outputId": "bc51e53c-a4af-4e67-f155-c46d380dc762"
      },
      "source": [
        "  \n",
        "# Driver code\n",
        "def main():\n",
        "      \n",
        "    # Building Phase\n",
        "    data = importdata()\n",
        "    X, Y, X_train, X_test, y_train, y_test = splitdataset(data)\n",
        "    clf_gini = train_using_gini(X_train, X_test, y_train)\n",
        "    clf_entropy = tarin_using_entropy(X_train, X_test, y_train)\n",
        "      \n",
        "    # Operational Phase\n",
        "    print(\"Results Using Gini Index:\")\n",
        "      \n",
        "    # Prediction using gini\n",
        "    y_pred_gini = prediction(X_test, clf_gini)\n",
        "    cal_accuracy(y_test, y_pred_gini)\n",
        "      \n",
        "    print(\"Results Using Entropy:\")\n",
        "    # Prediction using entropy\n",
        "    y_pred_entropy = prediction(X_test, clf_entropy)\n",
        "    cal_accuracy(y_test, y_pred_entropy)\n",
        "      \n",
        "      \n",
        "# Calling main function\n",
        "if __name__==\"__main__\":\n",
        "    main()"
      ],
      "execution_count": 11,
      "outputs": [
        {
          "output_type": "stream",
          "name": "stdout",
          "text": [
            "Dataset Length:  625\n",
            "Dataset Shape:  (625, 5)\n",
            "Dataset:    Class  L-Weight  L-Distance  R-Weight  R-Distance\n",
            "0     B         1           1         1           1\n",
            "1     R         1           1         1           2\n",
            "2     R         1           1         1           3\n",
            "3     R         1           1         1           4\n",
            "4     R         1           1         1           5\n",
            "Results Using Gini Index:\n",
            "Predicted values:\n",
            "['R' 'L' 'R' 'R' 'R' 'L' 'R' 'L' 'L' 'L' 'R' 'L' 'L' 'L' 'R' 'L' 'R' 'L'\n",
            " 'L' 'R' 'L' 'R' 'L' 'L' 'R' 'L' 'L' 'L' 'R' 'L' 'L' 'L' 'R' 'L' 'L' 'L'\n",
            " 'L' 'R' 'L' 'L' 'R' 'L' 'R' 'L' 'R' 'R' 'L' 'L' 'R' 'L' 'R' 'R' 'L' 'R'\n",
            " 'R' 'L' 'R' 'R' 'L' 'L' 'R' 'R' 'L' 'L' 'L' 'L' 'L' 'R' 'R' 'L' 'L' 'R'\n",
            " 'R' 'L' 'R' 'L' 'R' 'R' 'R' 'L' 'R' 'L' 'L' 'L' 'L' 'R' 'R' 'L' 'R' 'L'\n",
            " 'R' 'R' 'L' 'L' 'L' 'R' 'R' 'L' 'L' 'L' 'R' 'L' 'R' 'R' 'R' 'R' 'R' 'R'\n",
            " 'R' 'L' 'R' 'L' 'R' 'R' 'L' 'R' 'R' 'R' 'R' 'R' 'L' 'R' 'L' 'L' 'L' 'L'\n",
            " 'L' 'L' 'L' 'R' 'R' 'R' 'R' 'L' 'R' 'R' 'R' 'L' 'L' 'R' 'L' 'R' 'L' 'R'\n",
            " 'L' 'L' 'R' 'L' 'L' 'R' 'L' 'R' 'L' 'R' 'R' 'R' 'L' 'R' 'R' 'R' 'R' 'R'\n",
            " 'L' 'L' 'R' 'R' 'R' 'R' 'L' 'R' 'R' 'R' 'L' 'R' 'L' 'L' 'L' 'L' 'R' 'R'\n",
            " 'L' 'R' 'R' 'L' 'L' 'R' 'R' 'R']\n",
            "Confusion Matrix:  [[ 0  6  7]\n",
            " [ 0 67 18]\n",
            " [ 0 19 71]]\n",
            "Accuracy :  73.40425531914893\n",
            "Report :                precision    recall  f1-score   support\n",
            "\n",
            "           B       0.00      0.00      0.00        13\n",
            "           L       0.73      0.79      0.76        85\n",
            "           R       0.74      0.79      0.76        90\n",
            "\n",
            "    accuracy                           0.73       188\n",
            "   macro avg       0.49      0.53      0.51       188\n",
            "weighted avg       0.68      0.73      0.71       188\n",
            "\n",
            "Results Using Entropy:\n",
            "Predicted values:\n",
            "['R' 'L' 'R' 'L' 'R' 'L' 'R' 'L' 'R' 'R' 'R' 'R' 'L' 'L' 'R' 'L' 'R' 'L'\n",
            " 'L' 'R' 'L' 'R' 'L' 'L' 'R' 'L' 'R' 'L' 'R' 'L' 'R' 'L' 'R' 'L' 'L' 'L'\n",
            " 'L' 'L' 'R' 'L' 'R' 'L' 'R' 'L' 'R' 'R' 'L' 'L' 'R' 'L' 'L' 'R' 'L' 'L'\n",
            " 'R' 'L' 'R' 'R' 'L' 'R' 'R' 'R' 'L' 'L' 'R' 'L' 'L' 'R' 'L' 'L' 'L' 'R'\n",
            " 'R' 'L' 'R' 'L' 'R' 'R' 'R' 'L' 'R' 'L' 'L' 'L' 'L' 'R' 'R' 'L' 'R' 'L'\n",
            " 'R' 'R' 'L' 'L' 'L' 'R' 'R' 'L' 'L' 'L' 'R' 'L' 'L' 'R' 'R' 'R' 'R' 'R'\n",
            " 'R' 'L' 'R' 'L' 'R' 'R' 'L' 'R' 'R' 'L' 'R' 'R' 'L' 'R' 'R' 'R' 'L' 'L'\n",
            " 'L' 'L' 'L' 'R' 'R' 'R' 'R' 'L' 'R' 'R' 'R' 'L' 'L' 'R' 'L' 'R' 'L' 'R'\n",
            " 'L' 'R' 'R' 'L' 'L' 'R' 'L' 'R' 'R' 'R' 'R' 'R' 'L' 'R' 'R' 'R' 'R' 'R'\n",
            " 'R' 'L' 'R' 'L' 'R' 'R' 'L' 'R' 'L' 'R' 'L' 'R' 'L' 'L' 'L' 'L' 'L' 'R'\n",
            " 'R' 'R' 'L' 'L' 'L' 'R' 'R' 'R']\n",
            "Confusion Matrix:  [[ 0  6  7]\n",
            " [ 0 63 22]\n",
            " [ 0 20 70]]\n",
            "Accuracy :  70.74468085106383\n",
            "Report :                precision    recall  f1-score   support\n",
            "\n",
            "           B       0.00      0.00      0.00        13\n",
            "           L       0.71      0.74      0.72        85\n",
            "           R       0.71      0.78      0.74        90\n",
            "\n",
            "    accuracy                           0.71       188\n",
            "   macro avg       0.47      0.51      0.49       188\n",
            "weighted avg       0.66      0.71      0.68       188\n",
            "\n"
          ]
        },
        {
          "output_type": "stream",
          "name": "stderr",
          "text": [
            "/usr/local/lib/python3.7/dist-packages/sklearn/metrics/_classification.py:1272: UndefinedMetricWarning: Precision and F-score are ill-defined and being set to 0.0 in labels with no predicted samples. Use `zero_division` parameter to control this behavior.\n",
            "  _warn_prf(average, modifier, msg_start, len(result))\n",
            "/usr/local/lib/python3.7/dist-packages/sklearn/metrics/_classification.py:1272: UndefinedMetricWarning: Precision and F-score are ill-defined and being set to 0.0 in labels with no predicted samples. Use `zero_division` parameter to control this behavior.\n",
            "  _warn_prf(average, modifier, msg_start, len(result))\n"
          ]
        }
      ]
    }
  ]
}